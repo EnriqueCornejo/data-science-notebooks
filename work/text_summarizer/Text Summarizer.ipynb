{
 "cells": [
  {
   "cell_type": "code",
   "execution_count": null,
   "metadata": {
    "collapsed": false
   },
   "outputs": [],
   "source": [
    "from gensim import summarization"
   ]
  },
  {
   "cell_type": "code",
   "execution_count": null,
   "metadata": {
    "collapsed": true
   },
   "outputs": [],
   "source": [
    "text = \"\"\"President Trump signed an executive order on Friday that purports to bar for at least 90 days almost all permanent immigration from seven majority-Muslim countries, including Syria and Iraq, and asserts the power to extend the ban indefinitely.\n",
    "But the order is illegal. More than 50 years ago, Congress outlawed such discrimination against immigrants based on national origin.\n",
    "That decision came after a long and shameful history in this country of barring immigrants based on where they came from. Starting in the late 19th century, laws excluded all Chinese, almost all Japanese, then all Asians in the so-called Asiatic Barred Zone. Finally, in 1924, Congress created a comprehensive “national-origins system,” skewing immigration quotas to benefit Western Europeans and to exclude most Eastern Europeans, almost all Asians, and Africans.\n",
    "Mr. Trump appears to want to reinstate a new type of Asiatic Barred Zone by executive order, but there is just one problem: The Immigration and Nationality Act of 1965 banned all discrimination against immigrants on the basis of national origin, replacing the old prejudicial system and giving each country an equal shot at the quotas. In signing the new law, President Lyndon B. Johnson said that “the harsh injustice” of the national-origins quota system had been “abolished.”\n",
    "Protesters near the White House on Wednesday. Credit Al Drago/The New York Times\n",
    "Nonetheless, Mr. Trump asserts that he still has the power to discriminate, pointing to a 1952 law that allows the president the ability to “suspend the entry” of “any class of aliens” that he finds are detrimental to the interest of the United States.\n",
    "\"\"\""
   ]
  },
  {
   "cell_type": "code",
   "execution_count": null,
   "metadata": {
    "collapsed": false
   },
   "outputs": [],
   "source": [
    "text = text.replace('\\n', ' ')\n",
    "print(text)"
   ]
  },
  {
   "cell_type": "code",
   "execution_count": null,
   "metadata": {
    "collapsed": false
   },
   "outputs": [],
   "source": [
    "summarization.summarize(text)"
   ]
  },
  {
   "cell_type": "code",
   "execution_count": null,
   "metadata": {
    "collapsed": false
   },
   "outputs": [],
   "source": [
    "print(summarization.keywords(text))"
   ]
  },
  {
   "cell_type": "code",
   "execution_count": null,
   "metadata": {
    "collapsed": true
   },
   "outputs": [],
   "source": []
  }
 ],
 "metadata": {
  "kernelspec": {
   "display_name": "Python 3",
   "language": "python",
   "name": "python3"
  },
  "language_info": {
   "codemirror_mode": {
    "name": "ipython",
    "version": 3
   },
   "file_extension": ".py",
   "mimetype": "text/x-python",
   "name": "python",
   "nbconvert_exporter": "python",
   "pygments_lexer": "ipython3",
   "version": "3.5.2"
  }
 },
 "nbformat": 4,
 "nbformat_minor": 2
}
