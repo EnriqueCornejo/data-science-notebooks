{
 "cells": [
  {
   "cell_type": "markdown",
   "metadata": {
    "urth": {
     "dashboard": {
      "layout": {
       "col": 0,
       "height": 2,
       "row": 0,
       "width": 12
      }
     }
    },
    "urth_section": {
     "id": "1",
     "layout": "vertical"
    }
   },
   "source": [
    "# Text Summarization Service"
   ]
  },
  {
   "cell_type": "markdown",
   "metadata": {
    "urth": {
     "dashboard": {
      "hidden": true
     }
    }
   },
   "source": [
    "This notebook is meant to demonstrate the transformation of an annotated notebook into a HTTP API using the Jupyter kernel gateway. The result is a simple scotch recommendation engine.\n",
    "\n",
    "The original scotch data is from [https://www.mathstat.strath.ac.uk/outreach/nessie/nessie_whisky.html](https://www.mathstat.strath.ac.uk/outreach/nessie/nessie_whisky.html)."
   ]
  },
  {
   "cell_type": "code",
   "execution_count": 1,
   "metadata": {
    "collapsed": false,
    "urth": {
     "dashboard": {
      "hidden": true
     }
    },
    "urth_section": {}
   },
   "outputs": [],
   "source": [
    "import pandas as pd\n",
    "import pickle\n",
    "import requests\n",
    "import json"
   ]
  },
  {
   "cell_type": "markdown",
   "metadata": {
    "urth": {
     "dashboard": {
      "hidden": true
     }
    },
    "urth_section": {}
   },
   "source": [
    "## Data\n",
    "\n",
    "We read the scotch data from a public Box URL to make this notebook more portable. This is acceptable for small, public, demo data which is what we have here."
   ]
  },
  {
   "cell_type": "code",
   "execution_count": 3,
   "metadata": {
    "collapsed": true
   },
   "outputs": [],
   "source": [
    "features_uri = 'https://ibm.box.com/shared/static/2vntdqbozf9lzmukkeoq1lfi2pcb00j1.dataframe' \n",
    "sim_uri = 'https://ibm.box.com/shared/static/54kzs5zquv0vjycemjckjbh0n00e7m5t.dataframe'"
   ]
  },
  {
   "cell_type": "code",
   "execution_count": 4,
   "metadata": {
    "collapsed": false,
    "urth": {
     "dashboard": {
      "hidden": true
     }
    }
   },
   "outputs": [],
   "source": [
    "resp = requests.get(features_uri)\n",
    "resp.raise_for_status()\n",
    "features_df = pickle.loads(resp.content)"
   ]
  },
  {
   "cell_type": "code",
   "execution_count": 5,
   "metadata": {
    "collapsed": false
   },
   "outputs": [],
   "source": [
    "resp = requests.get(sim_uri)\n",
    "resp.raise_for_status()\n",
    "sim_df = pickle.loads(resp.content)"
   ]
  },
  {
   "cell_type": "markdown",
   "metadata": {
    "urth": {
     "dashboard": {
      "hidden": true
     }
    }
   },
   "source": [
    "Drop the cluster column. Don't need it here."
   ]
  },
  {
   "cell_type": "code",
   "execution_count": 6,
   "metadata": {
    "collapsed": false,
    "urth": {
     "dashboard": {
      "hidden": true
     }
    }
   },
   "outputs": [],
   "source": [
    "features_df = features_df.drop('cluster', axis=1)"
   ]
  },
  {
   "cell_type": "markdown",
   "metadata": {},
   "source": [
    "## API\n",
    "\n",
    "We need to define a global `REQUEST` JSON string that will be replaced on each invocation of the API. We only care about path parameters and query string arguments, so we default those to blank here for development."
   ]
  },
  {
   "cell_type": "code",
   "execution_count": 7,
   "metadata": {
    "collapsed": true
   },
   "outputs": [],
   "source": [
    "REQUEST = json.dumps({\n",
    "    'path' : {},\n",
    "    'args' : {}\n",
    "})"
   ]
  },
  {
   "cell_type": "markdown",
   "metadata": {},
   "source": [
    "Provide a way to get the names of all the scotches known by the model."
   ]
  },
  {
   "cell_type": "code",
   "execution_count": 8,
   "metadata": {
    "collapsed": false
   },
   "outputs": [
    {
     "name": "stdout",
     "output_type": "stream",
     "text": [
      "{\"names\": [\"Aberfeldy\", \"Aberlour\", \"AnCnoc\", \"Ardbeg\", \"Ardmore\", \"ArranIsleOf\", \"Auchentoshan\", \"Auchroisk\", \"Aultmore\", \"Balblair\", \"Balmenach\", \"Belvenie\", \"BenNevis\", \"Benriach\", \"Benrinnes\", \"Benromach\", \"Bladnoch\", \"BlairAthol\", \"Bowmore\", \"Bruichladdich\", \"Bunnahabhain\", \"Caol Ila\", \"Cardhu\", \"Clynelish\", \"Craigallechie\", \"Craigganmore\", \"Dailuaine\", \"Dalmore\", \"Dalwhinnie\", \"Deanston\", \"Dufftown\", \"Edradour\", \"GlenDeveronMacduff\", \"GlenElgin\", \"GlenGarioch\", \"GlenGrant\", \"GlenKeith\", \"GlenMoray\", \"GlenOrd\", \"GlenScotia\", \"GlenSpey\", \"Glenallachie\", \"Glendronach\", \"Glendullan\", \"Glenfarclas\", \"Glenfiddich\", \"Glengoyne\", \"Glenkinchie\", \"Glenlivet\", \"Glenlossie\", \"Glenmorangie\", \"Glenrothes\", \"Glenturret\", \"Highland Park\", \"Inchgower\", \"Isle of Jura\", \"Knochando\", \"Lagavulin\", \"Laphroig\", \"Linkwood\", \"Loch Lomond\", \"Longmorn\", \"Macallan\", \"Mannochmore\", \"Miltonduff\", \"Mortlach\", \"Oban\", \"OldFettercairn\", \"OldPulteney\", \"RoyalBrackla\", \"RoyalLochnagar\", \"Scapa\", \"Speyburn\", \"Speyside\", \"Springbank\", \"Strathisla\", \"Strathmill\", \"Talisker\", \"Tamdhu\", \"Tamnavulin\", \"Teaninich\", \"Tobermory\", \"Tomatin\", \"Tomintoul\", \"Tormore\", \"Tullibardine\"]}\n"
     ]
    }
   ],
   "source": [
    "# GET /scotches\n",
    "names = sim_df.columns.tolist()\n",
    "print(json.dumps(dict(names=names)))"
   ]
  },
  {
   "cell_type": "code",
   "execution_count": 13,
   "metadata": {
    "collapsed": false
   },
   "outputs": [
    {
     "name": "stdout",
     "output_type": "stream",
     "text": [
      "{\"ping\": \"pong\"}\n"
     ]
    }
   ],
   "source": [
    "# GET /ping\n",
    "pong = {\"ping\": \"pong\"}\n",
    "print(json.dumps(pong))"
   ]
  },
  {
   "cell_type": "markdown",
   "metadata": {},
   "source": [
    "Let clients query for features about a specific scotch given its name."
   ]
  },
  {
   "cell_type": "code",
   "execution_count": 8,
   "metadata": {
    "collapsed": false
   },
   "outputs": [
    {
     "name": "stdout",
     "output_type": "stream",
     "text": [
      "{\"features\":{\"Body\":4,\"Sweetness\":2,\"Smoky\":3,\"Medicinal\":3,\"Tobacco\":0,\"Honey\":1,\"Spicy\":3,\"Winey\":0,\"Nutty\":1,\"Malty\":2,\"Fruity\":2}}\n"
     ]
    }
   ],
   "source": [
    "# GET /scotches/:scotch\n",
    "request = json.loads(REQUEST)\n",
    "name = request['path'].get('scotch', 'Talisker')\n",
    "features = features_df.loc[name]\n",
    "# can't use to_dict because it retains numpy types which blow up when we json.dumps\n",
    "print('{\"features\":%s}' % features.to_json())"
   ]
  },
  {
   "cell_type": "markdown",
   "metadata": {},
   "source": [
    "Let clients request a set of scotches similar to the one named. Let clients specify how many results they wish to receive (`count`) and if they want all of the raw feature data included in the result or not (`include_features`)."
   ]
  },
  {
   "cell_type": "code",
   "execution_count": 9,
   "metadata": {
    "collapsed": false
   },
   "outputs": [
    {
     "name": "stdout",
     "output_type": "stream",
     "text": [
      "{\"recommendations\": [{\"Name\": \"Clynelish\", \"Sweetness\": 2, \"Medicinal\": 3, \"Smoky\": 3, \"Malty\": 1, \"Body\": 3, \"Tobacco\": 1, \"Fruity\": 2, \"Honey\": 0, \"Similarity\": 0.9605849651931131, \"Spicy\": 2, \"Nutty\": 1, \"Winey\": 0}, {\"Name\": \"Ardbeg\", \"Sweetness\": 1, \"Medicinal\": 4, \"Smoky\": 4, \"Malty\": 2, \"Body\": 4, \"Tobacco\": 0, \"Fruity\": 1, \"Honey\": 0, \"Similarity\": 0.9484168381883901, \"Spicy\": 2, \"Nutty\": 1, \"Winey\": 0}, {\"Name\": \"Caol Ila\", \"Sweetness\": 1, \"Medicinal\": 2, \"Smoky\": 4, \"Malty\": 1, \"Body\": 3, \"Tobacco\": 1, \"Fruity\": 1, \"Honey\": 0, \"Similarity\": 0.8992710312446166, \"Spicy\": 2, \"Nutty\": 2, \"Winey\": 0}, {\"Name\": \"Lagavulin\", \"Sweetness\": 1, \"Medicinal\": 4, \"Smoky\": 4, \"Malty\": 1, \"Body\": 4, \"Tobacco\": 1, \"Fruity\": 1, \"Honey\": 0, \"Similarity\": 0.8695980950674561, \"Spicy\": 1, \"Nutty\": 1, \"Winey\": 2}, {\"Name\": \"Dalmore\", \"Sweetness\": 2, \"Medicinal\": 1, \"Smoky\": 2, \"Malty\": 2, \"Body\": 3, \"Tobacco\": 0, \"Fruity\": 3, \"Honey\": 1, \"Similarity\": 0.839754059379345, \"Spicy\": 2, \"Nutty\": 1, \"Winey\": 2}], \"for\": \"Talisker\"}\n"
     ]
    },
    {
     "name": "stderr",
     "output_type": "stream",
     "text": [
      "/opt/conda/lib/python3.5/site-packages/ipykernel/__main__.py:7: FutureWarning: order is deprecated, use sort_values(...)\n"
     ]
    }
   ],
   "source": [
    "# GET /scotches/:scotch/similar\n",
    "request = json.loads(REQUEST)\n",
    "name = request['path'].get('scotch', 'Talisker')\n",
    "count = request['args'].get('count', 5)\n",
    "inc_features = request['args'].get('include_features', True)\n",
    "\n",
    "similar = sim_df[name].order(ascending=False)\n",
    "similar.name = 'Similarity'\n",
    "df = pd.DataFrame(similar).ix[1:count+1]\n",
    "\n",
    "if inc_features:\n",
    "    df = df.join(features_df)\n",
    "    \n",
    "df = df.reset_index().rename(columns={'Distillery': 'Name'})\n",
    "result = {\n",
    "    'recommendations' : [row[1].to_dict() for row in df.iterrows()],\n",
    "    'for': name\n",
    "}\n",
    "print(json.dumps(result))"
   ]
  },
  {
   "cell_type": "code",
   "execution_count": null,
   "metadata": {
    "collapsed": true
   },
   "outputs": [],
   "source": []
  }
 ],
 "metadata": {
  "kernelspec": {
   "display_name": "Python 3",
   "language": "python",
   "name": "python3"
  },
  "language_info": {
   "codemirror_mode": {
    "name": "ipython",
    "version": 3
   },
   "file_extension": ".py",
   "mimetype": "text/x-python",
   "name": "python",
   "nbconvert_exporter": "python",
   "pygments_lexer": "ipython3",
   "version": "3.5.2"
  },
  "urth": {
   "dashboard": {
    "cellMargin": 10,
    "defaultCellHeight": 20,
    "maxColumns": 12
   }
  }
 },
 "nbformat": 4,
 "nbformat_minor": 0
}
